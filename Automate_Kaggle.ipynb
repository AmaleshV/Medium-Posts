{
  "nbformat": 4,
  "nbformat_minor": 0,
  "metadata": {
    "colab": {
      "name": "Automate Kaggle.ipynb",
      "provenance": [],
      "collapsed_sections": [],
      "toc_visible": true,
      "machine_shape": "hm",
      "include_colab_link": true
    },
    "kernelspec": {
      "name": "python3",
      "display_name": "Python 3"
    },
    "accelerator": "GPU"
  },
  "cells": [
    {
      "cell_type": "markdown",
      "metadata": {
        "id": "view-in-github",
        "colab_type": "text"
      },
      "source": [
        "<a href=\"https://colab.research.google.com/github/AmaleshV/Medium-Posts/blob/master/Automate_Kaggle.ipynb\" target=\"_parent\"><img src=\"https://colab.research.google.com/assets/colab-badge.svg\" alt=\"Open In Colab\"/></a>"
      ]
    },
    {
      "cell_type": "markdown",
      "metadata": {
        "id": "EVpG0CcN0oJP",
        "colab_type": "text"
      },
      "source": [
        "# Increase **RAM**"
      ]
    },
    {
      "cell_type": "code",
      "metadata": {
        "id": "B20orLao0kkc",
        "colab_type": "code",
        "colab": {}
      },
      "source": [
        "d=[]\n",
        "while(1):\n",
        "  d.append('1')"
      ],
      "execution_count": 0,
      "outputs": []
    },
    {
      "cell_type": "markdown",
      "metadata": {
        "id": "x5oiTFdd1ipg",
        "colab_type": "text"
      },
      "source": [
        "# Check GPU "
      ]
    },
    {
      "cell_type": "code",
      "metadata": {
        "id": "l3zN_BZr1p22",
        "colab_type": "code",
        "outputId": "f59491d4-23ab-4471-e6b2-0349d40a3c73",
        "colab": {
          "base_uri": "https://localhost:8080/",
          "height": 302
        }
      },
      "source": [
        "!nvidia-smi"
      ],
      "execution_count": 0,
      "outputs": [
        {
          "output_type": "stream",
          "text": [
            "Tue Jan  7 09:29:22 2020       \n",
            "+-----------------------------------------------------------------------------+\n",
            "| NVIDIA-SMI 440.44       Driver Version: 418.67       CUDA Version: 10.1     |\n",
            "|-------------------------------+----------------------+----------------------+\n",
            "| GPU  Name        Persistence-M| Bus-Id        Disp.A | Volatile Uncorr. ECC |\n",
            "| Fan  Temp  Perf  Pwr:Usage/Cap|         Memory-Usage | GPU-Util  Compute M. |\n",
            "|===============================+======================+======================|\n",
            "|   0  Tesla P100-PCIE...  Off  | 00000000:00:04.0 Off |                    0 |\n",
            "| N/A   35C    P0    27W / 250W |      0MiB / 16280MiB |      0%      Default |\n",
            "+-------------------------------+----------------------+----------------------+\n",
            "                                                                               \n",
            "+-----------------------------------------------------------------------------+\n",
            "| Processes:                                                       GPU Memory |\n",
            "|  GPU       PID   Type   Process name                             Usage      |\n",
            "|=============================================================================|\n",
            "|  No running processes found                                                 |\n",
            "+-----------------------------------------------------------------------------+\n"
          ],
          "name": "stdout"
        }
      ]
    },
    {
      "cell_type": "markdown",
      "metadata": {
        "id": "maxkzi1l1q-E",
        "colab_type": "text"
      },
      "source": [
        "# Kaggle Pipeline"
      ]
    },
    {
      "cell_type": "markdown",
      "metadata": {
        "id": "s34EtJOj73hR",
        "colab_type": "text"
      },
      "source": [
        "**Upload Kaggle JSON**"
      ]
    },
    {
      "cell_type": "code",
      "metadata": {
        "id": "Wi_4dWR41wvJ",
        "colab_type": "code",
        "outputId": "3a8152bb-a9ca-46f3-a910-798be37c27be",
        "colab": {
          "resources": {
            "http://localhost:8080/nbextensions/google.colab/files.js": {
              "data": "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",
              "ok": true,
              "headers": [
                [
                  "content-type",
                  "application/javascript"
                ]
              ],
              "status": 200,
              "status_text": ""
            }
          },
          "base_uri": "https://localhost:8080/",
          "height": 74
        }
      },
      "source": [
        "from google.colab import files\n",
        "uploaded = files.upload()"
      ],
      "execution_count": 0,
      "outputs": [
        {
          "output_type": "display_data",
          "data": {
            "text/html": [
              "\n",
              "     <input type=\"file\" id=\"files-30813354-5414-42cf-a1a6-dc10c21a45d3\" name=\"files[]\" multiple disabled />\n",
              "     <output id=\"result-30813354-5414-42cf-a1a6-dc10c21a45d3\">\n",
              "      Upload widget is only available when the cell has been executed in the\n",
              "      current browser session. Please rerun this cell to enable.\n",
              "      </output>\n",
              "      <script src=\"/nbextensions/google.colab/files.js\"></script> "
            ],
            "text/plain": [
              "<IPython.core.display.HTML object>"
            ]
          },
          "metadata": {
            "tags": []
          }
        },
        {
          "output_type": "stream",
          "text": [
            "Saving kaggle.json to kaggle.json\n"
          ],
          "name": "stdout"
        }
      ]
    },
    {
      "cell_type": "markdown",
      "metadata": {
        "id": "B5vECcsB10ij",
        "colab_type": "text"
      },
      "source": [
        "**Downloading the datasets from API calls**"
      ]
    },
    {
      "cell_type": "code",
      "metadata": {
        "id": "yGRg6QJG1-sP",
        "colab_type": "code",
        "outputId": "e87f912e-c19f-4742-e01c-41a73f7f74ea",
        "colab": {
          "base_uri": "https://localhost:8080/",
          "height": 487
        }
      },
      "source": [
        "%%time\n",
        "!mkdir -p ~/.kaggle\n",
        "!cp kaggle.json ~/.kaggle/\n",
        "!chmod 600 ~/.kaggle/kaggle.json\n",
        "!kaggle competitions download --force ieee-fraud-detection\n",
        "!unzip sample_submission.csv.zip\n",
        "!unzip test_identity.csv.zip \n",
        "!unzip test_transaction.csv.zip\n",
        "!unzip train_identity.csv.zip\n",
        "!unzip train_transaction.csv.zip"
      ],
      "execution_count": 0,
      "outputs": [
        {
          "output_type": "stream",
          "text": [
            "Warning: Looks like you're using an outdated API Version, please consider updating (server 1.5.6 / client 1.5.4)\n",
            "Downloading train_transaction.csv.zip to /content\n",
            " 81% 47.0M/58.3M [00:03<00:01, 7.57MB/s]\n",
            "100% 58.3M/58.3M [00:03<00:00, 17.4MB/s]\n",
            "Downloading test_identity.csv.zip to /content\n",
            "  0% 0.00/3.21M [00:00<?, ?B/s]\n",
            "100% 3.21M/3.21M [00:00<00:00, 106MB/s]\n",
            "Downloading sample_submission.csv.zip to /content\n",
            "  0% 0.00/1.14M [00:00<?, ?B/s]\n",
            "100% 1.14M/1.14M [00:00<00:00, 160MB/s]\n",
            "Downloading train_identity.csv.zip to /content\n",
            "  0% 0.00/3.26M [00:00<?, ?B/s]\n",
            "100% 3.26M/3.26M [00:00<00:00, 109MB/s]\n",
            "Downloading test_transaction.csv.zip to /content\n",
            " 94% 49.0M/52.2M [00:03<00:00, 11.2MB/s]\n",
            "100% 52.2M/52.2M [00:03<00:00, 16.0MB/s]\n",
            "Archive:  sample_submission.csv.zip\n",
            "  inflating: sample_submission.csv   \n",
            "Archive:  test_identity.csv.zip\n",
            "  inflating: test_identity.csv       \n",
            "Archive:  test_transaction.csv.zip\n",
            "  inflating: test_transaction.csv    \n",
            "Archive:  train_identity.csv.zip\n",
            "  inflating: train_identity.csv      \n",
            "Archive:  train_transaction.csv.zip\n",
            "  inflating: train_transaction.csv   \n",
            "CPU times: user 301 ms, sys: 55 ms, total: 356 ms\n",
            "Wall time: 50.6 s\n"
          ],
          "name": "stdout"
        }
      ]
    },
    {
      "cell_type": "markdown",
      "metadata": {
        "id": "Z7ekpQiG3SLi",
        "colab_type": "text"
      },
      "source": [
        "**Import Packages**"
      ]
    },
    {
      "cell_type": "code",
      "metadata": {
        "id": "vsxHG_N53laN",
        "colab_type": "code",
        "outputId": "c0bd14ef-46aa-444e-a18f-594beff2a795",
        "colab": {
          "base_uri": "https://localhost:8080/",
          "height": 67
        }
      },
      "source": [
        "!pip install xgboost\n",
        "import xgboost as xgb\n",
        "import pandas as pd\n",
        "import numpy as np\n",
        "import random\n",
        "import sklearn\n",
        "import re"
      ],
      "execution_count": 0,
      "outputs": [
        {
          "output_type": "stream",
          "text": [
            "Requirement already satisfied: xgboost in /usr/local/lib/python3.6/dist-packages (0.90)\n",
            "Requirement already satisfied: scipy in /usr/local/lib/python3.6/dist-packages (from xgboost) (1.3.3)\n",
            "Requirement already satisfied: numpy in /usr/local/lib/python3.6/dist-packages (from xgboost) (1.17.4)\n"
          ],
          "name": "stdout"
        }
      ]
    },
    {
      "cell_type": "markdown",
      "metadata": {
        "id": "WjKbtkrw2D2s",
        "colab_type": "text"
      },
      "source": [
        "**Pre-Processing and Data Wrangling**"
      ]
    },
    {
      "cell_type": "code",
      "metadata": {
        "id": "CmrHia2C2KVo",
        "colab_type": "code",
        "outputId": "ad90dad4-8b4b-4558-f861-0a1f2d492f9a",
        "colab": {
          "base_uri": "https://localhost:8080/",
          "height": 50
        }
      },
      "source": [
        "%%time\n",
        "import dask.dataframe as dd\n",
        "train_identity = dd.read_csv('train_identity.csv')\n",
        "train_transaction = dd.read_csv('train_transaction.csv')\n",
        "test_identity = dd.read_csv('test_identity.csv')\n",
        "test_transaction = dd.read_csv('test_transaction.csv')\n",
        "sub = dd.read_csv('sample_submission.csv')\n",
        "# let's combine the data and work with the whole dataset\n",
        "train = dd.merge(train_transaction, train_identity, on='TransactionID', how='left')\n",
        "test = dd.merge(test_transaction, test_identity, on='TransactionID', how='left')"
      ],
      "execution_count": 0,
      "outputs": [
        {
          "output_type": "stream",
          "text": [
            "CPU times: user 751 ms, sys: 25.7 ms, total: 776 ms\n",
            "Wall time: 860 ms\n"
          ],
          "name": "stdout"
        }
      ]
    },
    {
      "cell_type": "code",
      "metadata": {
        "id": "iVTRjyLE2O2P",
        "colab_type": "code",
        "colab": {}
      },
      "source": [
        "#convert to pandas\n",
        "train = train.compute()\n",
        "test = test.compute()"
      ],
      "execution_count": 0,
      "outputs": []
    },
    {
      "cell_type": "code",
      "metadata": {
        "id": "xQGu8Drl3Egx",
        "colab_type": "code",
        "outputId": "a902537f-aaba-4e81-c2a6-61b0b3ef5a1d",
        "colab": {
          "base_uri": "https://localhost:8080/",
          "height": 168
        }
      },
      "source": [
        "#Data Wrangling\n",
        "df=train\n",
        "df=df.sample(frac=1,random_state=123) #shuffle data for memory bias\n",
        "#from sklearn import preprocessing\n",
        "# Identify which variables can be numeric and which factor (<32 uniq levels)\n",
        "numerics = ['int16', 'int32', 'int64', 'float16', 'float32', 'float64']\n",
        "cat_cols= [col for col in df.columns if (df[col].dtypes==object) & (df[col].nunique() > 32)]\n",
        "print(cat_cols)\n",
        "df= df.drop(cat_cols, axis=1)\n",
        "#df= df.loc[:,(df.dtypes== 'int64') | (df.dtypes==float) |((df.dtypes==object) & (df.nunique() < 32))]\n",
        "# Select only columns with less than 32 unique values if object or select numeric variables\n",
        "df_wrangled=df\n",
        "df_wrangled=train\n",
        "if 'isFraud' in df_wrangled:\n",
        "        df_wrangled = df_wrangled.loc[df_wrangled['isFraud'].notnull(),:] #pick only those alerts with target variable defined\n",
        "print(df_wrangled.head())\n",
        "# # Train Test Split\n",
        "# set x and y variables\n",
        "if 'isFraud' in df_wrangled:\n",
        "    y = df.isFraud\n",
        "    x= df.loc[:, df.columns != 'isFraud']\n",
        "from sklearn.model_selection import train_test_split\n",
        "xTrain, xTest, yTrain, yTest = train_test_split(x, y, test_size = 0.1, random_state = 123)"
      ],
      "execution_count": 0,
      "outputs": [
        {
          "output_type": "stream",
          "text": [
            "['P_emaildomain', 'R_emaildomain', 'id_30', 'id_31', 'id_33', 'DeviceInfo']\n",
            "   TransactionID  isFraud  ...  DeviceType                     DeviceInfo\n",
            "0        2987000        0  ...         NaN                            NaN\n",
            "1        2987001        0  ...         NaN                            NaN\n",
            "2        2987002        0  ...         NaN                            NaN\n",
            "3        2987003        0  ...         NaN                            NaN\n",
            "4        2987004        0  ...      mobile  SAMSUNG SM-G892A Build/NRD90M\n",
            "\n",
            "[5 rows x 434 columns]\n"
          ],
          "name": "stdout"
        }
      ]
    },
    {
      "cell_type": "code",
      "metadata": {
        "id": "yH4S3NM-iaZu",
        "colab_type": "code",
        "outputId": "0002276d-c8cc-47a8-b794-7b57f0718e5d",
        "colab": {
          "base_uri": "https://localhost:8080/",
          "height": 101
        }
      },
      "source": [
        "# # Training Data preprocessing\n",
        "# Eliminate automatically variables with more than 20% of missingness\n",
        "xTrain = xTrain[xTrain.columns[xTrain.isnull().mean() < 0.2]]\n",
        "# fill missing values with mean column values for numeric features\n",
        "#xTrain.select_dtypes(include=numerics) =  xTrain.select_dtypes(include=numerics).fillna(xTrain.mean(), inplace=True)\n",
        "#xTrain._get_numeric_data().fillna(xTrain.mean(), inplace=True)\n",
        "cols= xTrain.columns\n",
        "colnames_numerics_only = xTrain.select_dtypes(include=np.number).columns.tolist()\n",
        "colnames_numerics_only\n",
        "xTrain[colnames_numerics_only] = xTrain[colnames_numerics_only].fillna(xTrain[colnames_numerics_only].mean())\n",
        "# impute categorical variables with mode\n",
        "#cols = xTrain.select_dtypes(include= ).columns\n",
        "cat_cols= list(set(cols) - set(colnames_numerics_only))\n",
        "#xTrain[cat_cols] = xTrain.loc[:,xTrain.columns.isin(cat_cols) & (xTrain.isna().any())].fillna(xTrain[cat_cols].mode().iloc[0])\n",
        "xTrain[cat_cols] = xTrain[cat_cols].fillna(xTrain[cat_cols].mode().iloc[0])\n",
        "train_cols = xTrain.columns\n",
        "#xTrain.loc[:,(xTrain.dtypes==object)] = xTrain.loc[:,(xTrain.dtypes==object)].fillna(xTrain.mode())\n",
        "# get categorical features index\n",
        "xTrain.info()"
      ],
      "execution_count": 0,
      "outputs": [
        {
          "output_type": "stream",
          "text": [
            "<class 'pandas.core.frame.DataFrame'>\n",
            "Int64Index: 531486 entries, 36908 to 19979\n",
            "Columns: 180 entries, TransactionID to V321\n",
            "dtypes: float64(174), int64(3), object(3)\n",
            "memory usage: 733.9+ MB\n"
          ],
          "name": "stdout"
        }
      ]
    },
    {
      "cell_type": "markdown",
      "metadata": {
        "id": "lrSyQjce3zHb",
        "colab_type": "text"
      },
      "source": [
        "**Feature Selection**"
      ]
    },
    {
      "cell_type": "code",
      "metadata": {
        "id": "TzMCexeW4IXq",
        "colab_type": "code",
        "outputId": "cc3dd0df-a645-4188-dc86-bce1b2c2031e",
        "colab": {
          "base_uri": "https://localhost:8080/",
          "height": 50
        }
      },
      "source": [
        "%%time\n",
        "xTrain_dummy = pd.get_dummies(xTrain, prefix_sep='_', drop_first=True) #create dummies\n",
        "xgb_cols =xTrain_dummy.columns\n",
        "xTrain_xgb=xTrain_dummy\n",
        "yTrain_xgb = yTrain\n",
        "from sklearn.feature_selection import SelectFromModel\n",
        "from xgboost import XGBClassifier\n",
        "xgbc=XGBClassifier(n_estimators=500,verbose=1,tree_method='gpu_hist',random_state=123)\n",
        "embeded_xgb_selector = SelectFromModel(xgbc)\n",
        "embeded_xgb_selector.fit(xTrain_xgb, yTrain_xgb)\n",
        "embeded_xgb_support = embeded_xgb_selector.get_support()\n",
        "embeded_xgb_feature = xTrain_xgb.loc[:,embeded_xgb_support].columns.tolist()\n",
        "final_selected_cols=embeded_xgb_feature\n",
        "final_tr=xTrain_xgb[embeded_xgb_feature]"
      ],
      "execution_count": 0,
      "outputs": [
        {
          "output_type": "stream",
          "text": [
            "CPU times: user 8.33 s, sys: 3.72 s, total: 12 s\n",
            "Wall time: 12 s\n"
          ],
          "name": "stdout"
        }
      ]
    },
    {
      "cell_type": "markdown",
      "metadata": {
        "id": "mZnx6Lb_8iS0",
        "colab_type": "text"
      },
      "source": [
        "**Model Building**"
      ]
    },
    {
      "cell_type": "code",
      "metadata": {
        "id": "zqEkiEWO8l1x",
        "colab_type": "code",
        "outputId": "46045822-5da4-4a76-f497-4ce7d287d4d2",
        "colab": {
          "base_uri": "https://localhost:8080/",
          "height": 50
        }
      },
      "source": [
        "%%time\n",
        "import xgboost as xgb\n",
        "# Parameter Tuning maxd=50,minc=1\n",
        "model = xgb.XGBClassifier(\n",
        "    n_estimators=500,\n",
        "    max_depth=10,\n",
        "    learning_rate=0.05,\n",
        "    subsample=0.9,\n",
        "    colsample_bytree=0.9,\n",
        "    random_state=123,\n",
        "    tree_method='gpu_hist') #after hyperparameterisation\n",
        "xgb_best=model.fit(final_tr, yTrain)"
      ],
      "execution_count": 0,
      "outputs": [
        {
          "output_type": "stream",
          "text": [
            "CPU times: user 10.8 s, sys: 3.24 s, total: 14 s\n",
            "Wall time: 14 s\n"
          ],
          "name": "stdout"
        }
      ]
    },
    {
      "cell_type": "markdown",
      "metadata": {
        "id": "a4rM1OS39XYx",
        "colab_type": "text"
      },
      "source": [
        "**Model Validation**"
      ]
    },
    {
      "cell_type": "code",
      "metadata": {
        "id": "DbEfvNWr9VW8",
        "colab_type": "code",
        "outputId": "31c54b09-e385-4644-9710-053ad86c10e0",
        "colab": {
          "base_uri": "https://localhost:8080/",
          "height": 34
        }
      },
      "source": [
        "### Test Data preprocessing ###\n",
        "# Eliminate automatically variables with more than 20% of missingness\n",
        "xTest = xTest[xTest.columns[xTest.isnull().mean() < 0.2]]\n",
        "# fill missing values with mean column values for numeric features\n",
        "test_cols= xTest.columns\n",
        "num_cols = xTest.select_dtypes(include=np.number).columns\n",
        "xTest[num_cols] = xTest[num_cols].fillna(xTest[num_cols].mean())\n",
        "# impute categorical variables with mode\n",
        "#cols = xTest.select_dtypes(include= ).columns\n",
        "cat_cols= list(set(test_cols) - set(num_cols))\n",
        "#xTest[cat_cols] = xTest.loc[:,xTest.columns.isin(cat_cols) & (xTest.isna().any())].fillna(xTest[cat_cols].mode().iloc[0])\n",
        "xTest.loc[:,cat_cols] = xTest[cat_cols].fillna(xTest[cat_cols].mode().iloc[0])\n",
        "# Select only those features which are there in training #\n",
        "xTest = xTest[train_cols] \n",
        "# Dummify categorical vars\n",
        "xTest_dummy = pd.get_dummies(xTest, prefix_sep='_', drop_first=True)\n",
        "\n",
        "##missing columns levels train and test\n",
        "missing_levels_cols= list(set(xTrain_dummy.columns) - set(xTest_dummy.columns))\n",
        "for c in missing_levels_cols:\n",
        "    xTest_dummy[c]=0\n",
        "# Select only those variables in final_tr\n",
        "final_ts =xTest_dummy[final_selected_cols]\n",
        "xTest.columns\n",
        "##test prediction\n",
        "ytest_xgb = xgb_best.predict_proba(final_ts)\n",
        "### Performance metrics on test data ###\n",
        "from sklearn.metrics import roc_curve,roc_auc_score,f1_score,cohen_kappa_score,precision_score,recall_score,confusion_matrix\n",
        "yTest_num= yTest\n",
        "roc_auc_score(yTest_num,ytest_xgb[:,1])"
      ],
      "execution_count": 0,
      "outputs": [
        {
          "output_type": "execute_result",
          "data": {
            "text/plain": [
              "0.9313639465901744"
            ]
          },
          "metadata": {
            "tags": []
          },
          "execution_count": 31
        }
      ]
    },
    {
      "cell_type": "markdown",
      "metadata": {
        "id": "YkX_lKCb9cI1",
        "colab_type": "text"
      },
      "source": [
        "**Submission File**"
      ]
    },
    {
      "cell_type": "code",
      "metadata": {
        "id": "Z6ivNIqQ9g-q",
        "colab_type": "code",
        "colab": {}
      },
      "source": [
        "####submission prediction\n",
        "### Test Data preprocessing ###\n",
        "# Eliminate automatically variables with more than 20% of missingness\n",
        "test = test[test.columns[test.isnull().mean() < 0.2]]\n",
        "# fill missing values with mean column values for numeric features\n",
        "test_cols= test.columns\n",
        "num_cols = test.select_dtypes(include=np.number).columns\n",
        "test[num_cols] = test[num_cols].fillna(test[num_cols].mean())\n",
        "\n",
        "# impute categorical variables with mode\n",
        "#cols = .select_dtypes(include= ).columns\n",
        "cat_cols= list(set(test_cols) - set(num_cols))\n",
        "#test[cat_cols] = test.loc[:,test.columns.isin(cat_cols) & (test.isna().any())].fillna(test[cat_cols].mode().iloc[0])\n",
        "test.loc[:,cat_cols] = test[cat_cols].fillna(test[cat_cols].mode().iloc[0])\n",
        "\n",
        "# Select only those features which are there in training #\n",
        "test = test[train_cols] \n",
        "\n",
        "# Dummify categorical vars\n",
        "test_dummy = pd.get_dummies(test, prefix_sep='_', drop_first=True)\n",
        "\n",
        "##missing columns levels train and test\n",
        "missing_levels_cols= list(set(xTrain_dummy.columns) - set(test_dummy.columns))\n",
        "\n",
        "for c in missing_levels_cols:\n",
        "    test_dummy[c]=0\n",
        "\n",
        "# Select only those variables in final_tr\n",
        "final_ts =test_dummy[final_selected_cols]\n",
        "test.columns\n",
        "#ytest_xgb1 = xgb_best.predict_proba(final_ts)\n",
        "ytest_xgbs=xgb_best.predict_proba(final_ts)\n",
        "### Performance metrics on test data ###\n",
        "submission_xgb= np.c_[test.TransactionID,ytest_xgbs[:,1]]\n",
        "submission_xgb= pd.DataFrame(submission_xgb)\n",
        "submission_xgb.columns= ['TransactionID','isFraud']\n",
        "print(submission_xgb)\n",
        "submission_xgb.to_csv('submission_xgb.csv')\n",
        "from google.colab import files\n",
        "files.download('submission_xgb.csv')"
      ],
      "execution_count": 0,
      "outputs": []
    }
  ]
}